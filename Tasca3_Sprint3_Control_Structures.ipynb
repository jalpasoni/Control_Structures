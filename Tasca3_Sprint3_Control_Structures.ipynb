{
 "cells": [
  {
   "cell_type": "markdown",
   "metadata": {},
   "source": [
    "# _Tasca 3, Sprint 3_ *Data Structures* "
   ]
  },
  {
   "cell_type": "code",
   "execution_count": 1,
   "metadata": {},
   "outputs": [],
   "source": [
    "## This is a function defined to print some of the outputs in blue color.\n",
    "# This is to distinguish certain messages if there are many lines of output. \n",
    "BLUE = '34m'\n",
    "\n",
    "def display_colored_text(color, text):\n",
    "    colored_text = f\"\\033[{color}{text}\\033[00m\"\n",
    "    return colored_text"
   ]
  },
  {
   "cell_type": "markdown",
   "metadata": {
    "ExecuteTime": {
     "end_time": "2021-01-12T14:58:51.684805Z",
     "start_time": "2021-01-12T14:58:51.681499Z"
    }
   },
   "source": [
    "## Exercise 1\n",
    "\n",
    "Create a program that rates you a numeric variable based on the Suspès/Aprovat/Notable/Excel·lent scale.\n",
    "\n",
    "**Solution:**\n",
    "\n",
    "We have to write a code that tells the exam grades based on the value inserted by user. \n",
    "\n",
    "Standard Spanish grading scales are: \n",
    "    \n",
    "    0 - 4.99 Suspès\n",
    "    5 - 6.99 Aprovat\n",
    "    7 - 8.99 Notable\n",
    "    9 - 10 Excel·lent\n",
    "    \n",
    "For this, I have created a function **(exam_grades)** that uses *if-else* statements to assign grades based on the conditions above. Then, I use a **user-input to enter a value**, and calls the function *exam_grades* to display the grade rating of the value.\n",
    "\n",
    "If the entered value is less than 0 or more than 10, an error message is displayed. "
   ]
  },
  {
   "cell_type": "code",
   "execution_count": 2,
   "metadata": {
    "ExecuteTime": {
     "end_time": "2021-01-12T14:58:51.718214Z",
     "start_time": "2021-01-12T14:58:51.715008Z"
    }
   },
   "outputs": [
    {
     "name": "stdout",
     "output_type": "stream",
     "text": [
      "Check grade for value = 8.3\n",
      "\u001b[34mYour grade is Notable\u001b[00m\n"
     ]
    }
   ],
   "source": [
    "# @Pre: True\n",
    "# Post: Message displaying grade correspondint to entered value.\n",
    "def exam_grades(grade):\n",
    "    try:\n",
    "        assert(grade >= 0 and grade  <=10), \"Error: Number not acceptable! Please enter a value between 0 and 10\"\n",
    "        if(grade >=0 and grade <= 10 ):\n",
    "            if(grade < 5):\n",
    "                print(display_colored_text(BLUE, 'Your grade is Suspès'))\n",
    "            elif(grade >= 5 and grade < 7):\n",
    "                print(display_colored_text(BLUE, 'Your grade is Aprovat'))\n",
    "            elif(grade >= 7 and grade < 9):\n",
    "                print(display_colored_text(BLUE, 'Your grade is Notable'))\n",
    "            else:\n",
    "                print(display_colored_text(BLUE, 'Your grade is Excel.lent'))\n",
    "    except AssertionError as msg:  \n",
    "        print(msg) \n",
    "        \n",
    "\n",
    "#exam_grades(-1) \n",
    "#exam_grades(3.6)        \n",
    "\n",
    "grade = float(input(\"Check grade for value = \"))\n",
    "exam_grades(grade)"
   ]
  },
  {
   "cell_type": "markdown",
   "metadata": {},
   "source": [
    "## Exercise 2\n",
    "\n",
    "Using the following Programiz tutorial: *Python Input, Output and Import* create a program that asks you two numbers. It should show you a message saying if the first one is bigger, the second one is bigger or they are the same.\n",
    "\n",
    "**Solution:**\n",
    "\n",
    "To achieve this, I have created a function **(num_compare)** which uses *if-else* statements to determine if one of the numbers is bigger than the other or if the two numbers are the same. Then, I use **user-input of two numbers separated by space**, which are then assessed by calling the function *num_compare*."
   ]
  },
  {
   "cell_type": "code",
   "execution_count": 3,
   "metadata": {},
   "outputs": [
    {
     "name": "stdout",
     "output_type": "stream",
     "text": [
      "Enter two numbers here: 7 883\n",
      "The second number is bigger\n"
     ]
    }
   ],
   "source": [
    "# @Pre: True\n",
    "# Post: Message dsiplaying the comparision of two numbers.\n",
    "def num_compare(num):\n",
    "    if (num[0] > num[1]):\n",
    "        print('The first number is bigger')\n",
    "    elif (num[1] > num[0]):\n",
    "        print(\"The second number is bigger\")            \n",
    "    else:\n",
    "        print(\"Two numbers enetered are equal\")\n",
    "        \n",
    "\n",
    "#num1 = [3004.6, 987]\n",
    "#num_compare(num1)\n",
    "\n",
    "num = input(\"Enter two numbers here: \").split()\n",
    "num_compare(num)"
   ]
  },
  {
   "cell_type": "markdown",
   "metadata": {},
   "source": [
    "## Exercise 3\n",
    "\n",
    "Create a program that asks you for your name, and asks you for a number. If the number is 0, it should display an error message. Otherwise, it should show the repeated name as many times as the number indicates. For example, “Joan Joan Joan”.\n",
    "\n",
    "**Solution:**\n",
    "\n",
    "To achieve this, I have created three functions: \n",
    "\n",
    "   1. **your_name**, asking the user to *enter a name*. This function will keep on asking if non-letters are detected.\n",
    "   2. **your_number**, asking the user to *enter a number*. This function will keep on asking if non-numerical values or negative numbers are detected.\n",
    "   3. **repeat_name**, which uses assertion error if the number is 0 or prints the name as many times as the number"
   ]
  },
  {
   "cell_type": "code",
   "execution_count": 4,
   "metadata": {},
   "outputs": [
    {
     "name": "stdout",
     "output_type": "stream",
     "text": [
      "\n",
      "Enter Name: Neelu\n",
      "Enter a number: 6\n",
      "Neelu Neelu Neelu Neelu Neelu Neelu \n"
     ]
    }
   ],
   "source": [
    "# @pre: True\n",
    "# Post: A name, will keep on asking to enter unless it has *only letters*\n",
    "def your_name():\n",
    "    while True:\n",
    "        name=input(\"\\nEnter Name: \")\n",
    "        if (name.isalpha()):\n",
    "            break\n",
    "        else : #invalid\n",
    "            print (\"Invalid Name! Please enter letters only.\\n\")\n",
    "    return name\n",
    "        \n",
    "# @pre: True\n",
    "# Post: A number, will keep on asking to enter again unles it is a non-negative numeric value\n",
    "def your_number():\n",
    "    while True:\n",
    "        number=input(\"Enter a number: \")\n",
    "        if (number.isnumeric() and int(number) >= 0):\n",
    "            break\n",
    "        else : #invalid\n",
    "            print (\"Invalid Number! Only numerics and no negatives.\\n\")\n",
    "    return number \n",
    "\n",
    "name = your_name()\n",
    "number = your_number()\n",
    "\n",
    "# @pre: True\n",
    "# Post: Repeats the name as many times as the value of number, returns an error if the number is zero. \n",
    "def repeat_name(name, number):\n",
    "    try:\n",
    "        assert(int(number) != 0), \"Error: 2020 not found!\"\n",
    "        print((name + ' ')* int(number))\n",
    "            \n",
    "    except AssertionError as msg:  \n",
    "        print(msg) \n",
    "\n",
    "repeat_name(name, number)        "
   ]
  },
  {
   "cell_type": "markdown",
   "metadata": {},
   "source": [
    "##  Exercise 4\n",
    "\n",
    "Create a program that given any list, tells you if it is symmetrical or not. If so, tell me how many items it has.\n",
    "\n",
    "**Solution:**\n",
    "\n",
    "A list is symmetric if the first row is the same as the first column, the second row is the same as the second column and so on.\n",
    "\n",
    "To achieve this, \n",
    "    \n",
    "   1. I define a function called **symmetric**.\n",
    "   2. The input for this function is a list.\n",
    "   3. Output of this function is a boolean **True if the list is symmetric** and **False if it is not**. \n",
    "   4. The counter inside this function also displays how many elements are there in the list.\n",
    "   5. I have also made a **user-input for list of lists**, in which you have to enter the number of sublists *n* and then individually enter the elements (n times n) of the lists one by one. The list will be created with the entered values or strings by putting them in rows. For example, if the number of list is chosen as 3, then you have to enter 9 values, first three of which forms the first sublist (i.e., first row), the following three elements forms the second list (i.e., second column) and the last three becomes the third list (i.e., third row).     \n",
    "   6. This list is then given to the function *symmetric*, which returns either True or False depending on if the list is symmetric or not and also returns a value indicating how many elements are in the list if it is symmetric. Additionally, if the list is symmetric then the function prints the answer \"The list is symmetric and has *n* elements.\""
   ]
  },
  {
   "cell_type": "code",
   "execution_count": 5,
   "metadata": {},
   "outputs": [
    {
     "name": "stdout",
     "output_type": "stream",
     "text": [
      "Enter the number of sublist 3\n",
      "\n",
      "\n",
      "Enter item: 1\n",
      "Enter item: 2\n",
      "Enter item: 3\n",
      "Enter item: 2\n",
      "Enter item: 3\n",
      "Enter item: 4\n",
      "Enter item: 3\n",
      "Enter item: 4\n",
      "Enter item: 1\n",
      "List is: \n",
      "[['1', '2', '3'], ['2', '3', '4'], ['3', '4', '1']]\n",
      "\u001b[34mThe list is symmetric and has 9 elements.\u001b[00m\n"
     ]
    },
    {
     "data": {
      "text/plain": [
       "(True, 9)"
      ]
     },
     "execution_count": 5,
     "metadata": {},
     "output_type": "execute_result"
    }
   ],
   "source": [
    "# @Pre: True\n",
    "# Post: True (symmetric) or False (not symmetric)\n",
    "def symmetric(checklist):\n",
    "    # First, check if the list is square or not\n",
    "    length = len(checklist)\n",
    "    for value in range(0,length):\n",
    "        if len(checklist) != len(checklist[value]):\n",
    "            return False\n",
    "    checkcolumn = 0 # counter set to 0\n",
    "    list1 = [] # sublist for row \n",
    "    list2 = [] # sublist for column\n",
    "    i = 0 # counter for elements\n",
    "    while checkcolumn < len(checklist):\n",
    "        list1+=checklist[checkcolumn]\n",
    "        for row in checklist:\n",
    "            i = i + 1\n",
    "            list2.append(row[checkcolumn])\n",
    "        if list1 != list2:\n",
    "            return False\n",
    "        else:\n",
    "            checkcolumn+=1\n",
    "    print(display_colored_text(BLUE, 'The list is symmetric and has ' + str(i) + ' elements.'))\n",
    "    #print('The list is symmetric and has ' + str(i) + ' elements.')\n",
    "    return True, i\n",
    "\n",
    "# The checklist by user-input (works for both numbers and strings)\n",
    "dim = int(input(\"Enter the number of sublist \"))\n",
    "print(\"\\n\")\n",
    "checklist = [[(input(\"Enter item: \")) for _ in range(dim)] for _ in range(dim)]\n",
    "print(\"List is: \")\n",
    "print(checklist)\n",
    "\n",
    "symmetric(checklist)"
   ]
  },
  {
   "cell_type": "code",
   "execution_count": 6,
   "metadata": {},
   "outputs": [
    {
     "data": {
      "text/plain": [
       "False"
      ]
     },
     "execution_count": 6,
     "metadata": {},
     "output_type": "execute_result"
    }
   ],
   "source": [
    "checklist = [[1, 5, 2, 5], \n",
    "             [5, 2, 4, 2], \n",
    "             [2, 7, 1, 8]]\n",
    "symmetric(checklist)"
   ]
  },
  {
   "cell_type": "markdown",
   "metadata": {},
   "source": [
    "##  Exercise 5\n",
    "\n",
    "Create a program that given a list, tells you how many numbers match your position. For example [3,4,2,0,2,3,6] 2 and 6 coincide.\n",
    "\n",
    "**Solution:**\n",
    "\n",
    "Here, I need to check if the number value matches the number position. Important to remember is that in Python, the index of list starts with 0 by default meaning that a list with *n* elements has index from 0 to n. \n",
    "\n",
    "To achieve this check, I take following steps: \n",
    "\n",
    "   1. A function **enterlist** is defined to initiate user-input prompt for entering a list. First, the size/length  of the list has to be entered and then the elements separated by space. If the length of the list and the number of elements entered does not match, the user-input will prompt again asking to enter correct number of elements. \n",
    "   2. A second function called **match** is defined to check if the value of numbers and their positions match. To check this, a simple for loop is run with if-else conditions, and the corresponding message is displayed: False for no match and True for match. At the end of the loop, the counter calculates how many True values are for the match and displays a message accordingly. "
   ]
  },
  {
   "cell_type": "code",
   "execution_count": 7,
   "metadata": {},
   "outputs": [
    {
     "name": "stdout",
     "output_type": "stream",
     "text": [
      "Enter the size of the list 8\n",
      "Enter the list numbers separated by space 1 44 2 66 4 5 93 8\n",
      "List entered:  [1, 44, 2, 66, 4, 5, 93, 8]\n",
      "\n",
      "\n",
      "Position 0: 1 --> False\n",
      "Position 1: 44 --> False\n",
      "Position 2: 2 --> True\n",
      "Position 3: 66 --> False\n",
      "Position 4: 4 --> True\n",
      "Position 5: 5 --> True\n",
      "Position 6: 93 --> False\n",
      "Position 7: 8 --> False\n",
      "\u001b[34mTotal 3 numbers match from the list.\u001b[00m\n"
     ]
    }
   ],
   "source": [
    "def enterlist():\n",
    "    while True: \n",
    "        n = int(input(\"Enter the size of the list \"))\n",
    "        list1 = list(int(num) for num in input(\"Enter the list numbers separated by space \").strip().split())[:n]\n",
    "        length = len(list1)\n",
    "        if length == n:\n",
    "            break\n",
    "        else: \n",
    "            print(\"Invalid! Please enter \" + str(n) + \" elements\")\n",
    "    return list1\n",
    "    \n",
    "def match(list1):\n",
    "    i = 0 # counter\n",
    "    length = len(list1)\n",
    "    for ii in range(0,length):\n",
    "        if list1[ii] != ii:\n",
    "            print ('Position ' + str(ii) + ': ' + str(list1[ii]) + ' --> False')\n",
    "        else:\n",
    "            i = i + 1\n",
    "            print ('Position ' + str(ii) + ': ' + str(list1[ii]) + ' --> True')\n",
    "    #print(\"\\n\")\n",
    "    #print ('Total ' + str(i) + ' numbers match from the list.')\n",
    "    print(display_colored_text(BLUE, 'Total ' + str(i) + ' numbers match from the list.'))\n",
    "            \n",
    "list1 = enterlist()    \n",
    "print(\"List entered: \", list1)\n",
    "print(\"\\n\")\n",
    "\n",
    "match(list1)"
   ]
  }
 ],
 "metadata": {
  "kernelspec": {
   "display_name": "Python 3",
   "language": "python",
   "name": "python3"
  },
  "language_info": {
   "codemirror_mode": {
    "name": "ipython",
    "version": 3
   },
   "file_extension": ".py",
   "mimetype": "text/x-python",
   "name": "python",
   "nbconvert_exporter": "python",
   "pygments_lexer": "ipython3",
   "version": "3.6.5"
  },
  "latex_envs": {
   "LaTeX_envs_menu_present": true,
   "autoclose": false,
   "autocomplete": true,
   "bibliofile": "biblio.bib",
   "cite_by": "apalike",
   "current_citInitial": 1,
   "eqLabelWithNumbers": true,
   "eqNumInitial": 1,
   "hotkeys": {
    "equation": "Ctrl-E",
    "itemize": "Ctrl-I"
   },
   "labels_anchors": false,
   "latex_user_defs": false,
   "report_style_numbering": false,
   "user_envs_cfg": false
  },
  "nbTranslate": {
   "displayLangs": [
    "*"
   ],
   "hotkey": "alt-t",
   "langInMainMenu": true,
   "sourceLang": "en",
   "targetLang": "fr",
   "useGoogleTranslate": true
  },
  "toc": {
   "base_numbering": 1,
   "nav_menu": {},
   "number_sections": true,
   "sideBar": true,
   "skip_h1_title": false,
   "title_cell": "Table of Contents",
   "title_sidebar": "Contents",
   "toc_cell": false,
   "toc_position": {
    "height": "calc(100% - 180px)",
    "left": "10px",
    "top": "150px",
    "width": "336px"
   },
   "toc_section_display": true,
   "toc_window_display": true
  },
  "varInspector": {
   "cols": {
    "lenName": 16,
    "lenType": 16,
    "lenVar": 40
   },
   "kernels_config": {
    "python": {
     "delete_cmd_postfix": "",
     "delete_cmd_prefix": "del ",
     "library": "var_list.py",
     "varRefreshCmd": "print(var_dic_list())"
    },
    "r": {
     "delete_cmd_postfix": ") ",
     "delete_cmd_prefix": "rm(",
     "library": "var_list.r",
     "varRefreshCmd": "cat(var_dic_list()) "
    }
   },
   "types_to_exclude": [
    "module",
    "function",
    "builtin_function_or_method",
    "instance",
    "_Feature"
   ],
   "window_display": false
  }
 },
 "nbformat": 4,
 "nbformat_minor": 2
}
